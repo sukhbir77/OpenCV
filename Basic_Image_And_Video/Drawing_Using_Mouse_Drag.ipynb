import numpy as np
import cv2





def draw_rectangle(event)





img = np.zeros((512,512,3))

cv2.imshow('Drawing', img)

cv2.namedWindow(winname = 'Drawing')
cv2.setMouseCallback('Drawing', draw_rectangle)